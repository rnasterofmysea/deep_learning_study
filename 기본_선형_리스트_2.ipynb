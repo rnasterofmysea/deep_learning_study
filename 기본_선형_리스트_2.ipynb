{
  "nbformat": 4,
  "nbformat_minor": 0,
  "metadata": {
    "colab": {
      "provenance": []
    },
    "kernelspec": {
      "name": "python3",
      "display_name": "Python 3"
    },
    "language_info": {
      "name": "python"
    }
  },
  "cells": [
    {
      "cell_type": "markdown",
      "source": [
        "P.105"
      ],
      "metadata": {
        "id": "t9aB_0N4Hk35"
      }
    },
    {
      "cell_type": "code",
      "execution_count": null,
      "metadata": {
        "id": "p9nH8Fls277E"
      },
      "outputs": [],
      "source": [
        "def add_data(data):\n",
        "  linear_list.append(None)\n",
        "  list_len = len(linear_list)\n",
        "  linear_list[list_len] = data\n",
        "\n",
        "def insert_data(pos, data):\n",
        "\n",
        "def delte_data(pos):\n",
        "\n",
        "linear_list = []\n",
        "select = -1\n",
        "\n",
        "while(select != 4):\n",
        "  select = int(input(\"선택하세요(1:추가, 2:삽입, 3: 삭제, 4:종료)-->\"))\n",
        "\n",
        "  if (select == 1):\n",
        "    data = input(\"추가 데이터 -->\")\n",
        "    add_data(data)\n",
        "    print(linear_list)\n",
        "  elif(select == 2):\n",
        "    pos = int(input(\"삽입 위치 -->\"))\n",
        "    data = int(input(\"추가 데이터 -->\"))\n",
        "    insert_data(pos, data)\n",
        "    print(linear_list)\n",
        "  elif(select ==3):\n",
        "    pos = int(input(\"삭제할 위치 -->\"))\n",
        "    delete_data(pos)\n",
        "    print(linear_list)\n",
        "  elif(select == 4):\n",
        "    print(linear_list)\n",
        "\n",
        "  else:\n",
        "    print(\"1~4 중에 하나를 입력하세요\")\n",
        "    continue"
      ]
    },
    {
      "cell_type": "markdown",
      "source": [
        "Section 04. 선형 리스트의 응용 p.107"
      ],
      "metadata": {
        "id": "psxZagBJH8cm"
      }
    },
    {
      "cell_type": "code",
      "source": [
        "\n",
        "def printPoly(px):\n",
        "\n",
        "  temp = len(px)\n",
        "  poly = \"\"\n",
        "\n",
        "  for i in range(temp):\n",
        "    if i == 0:\n",
        "      poly += str(px[i]) + \"x^\" + str(temp-1)\n",
        "      temp -= 1\n",
        "    else:\n",
        "      poly += \"+\"+ str(px[i]) + \"x^\" + str(temp-1)\n",
        "      temp -= 1\n",
        "  return poly\n",
        "\n",
        "\n",
        "def calcPoly(xValue, px):\n",
        "  expo = len(px)-1\n",
        "  result = 0\n",
        "  for i in px:\n",
        "    result += i * xValue ** expo\n",
        "    expo -=1\n",
        "\n",
        "  return result\n",
        "\n",
        "# 다항식 매개변수\n",
        "px = [7,-4,0,5]\n",
        "\n",
        "# 메인코드\n",
        "\n",
        "pStr = printPoly(px)\n",
        "print(pStr)\n",
        "\n",
        "xValue = int(input(\"X값 ::\"))\n",
        "\n",
        "pxValue = calcPoly(xValue, px)\n",
        "print(pxValue)"
      ],
      "metadata": {
        "colab": {
          "base_uri": "https://localhost:8080/"
        },
        "id": "wYBWiZLwH-q8",
        "outputId": "1831836b-5e80-460e-fc47-d72084a573b1"
      },
      "execution_count": 19,
      "outputs": [
        {
          "output_type": "stream",
          "name": "stdout",
          "text": [
            "7x^3+-4x^2+0x^1+5x^0\n",
            "X값 ::2\n",
            "45\n"
          ]
        }
      ]
    },
    {
      "cell_type": "code",
      "source": [
        "\n",
        "def printPoly(tx, px):\n",
        "\n",
        "  poly = \"\"\n",
        "\n",
        "  for i in range(len(px)):\n",
        "    if i == 0:\n",
        "      poly += str(px[i]) + \"x^\" + str(tx[i])\n",
        "    else:\n",
        "      poly += \"+\"+ str(px[i]) + \"x^\" + str(tx[i])\n",
        "  return poly\n",
        "\n",
        "\n",
        "def calcPoly(xValue,tx, px):\n",
        "  result = 0\n",
        "  for i in range(len(px)):\n",
        "    result += px[i] * xValue ** tx[i]\n",
        "\n",
        "  return result\n",
        "\n",
        "# 다항식 매개변수\n",
        "tx = [300 ,20 ,0]\n",
        "px = [7, -4, 5]\n",
        "\n",
        "# 메인코드\n",
        "\n",
        "pStr = printPoly(tx, px)\n",
        "print(pStr)\n",
        "\n",
        "xValue = int(input(\"X값 ::\"))\n",
        "\n",
        "pxValue = calcPoly(xValue, tx, px)\n",
        "print(pxValue)"
      ],
      "metadata": {
        "colab": {
          "base_uri": "https://localhost:8080/"
        },
        "id": "kXk2o3aOL4XU",
        "outputId": "2bd4fb96-9b70-4c85-ccba-155952fd1290"
      },
      "execution_count": 22,
      "outputs": [
        {
          "output_type": "stream",
          "name": "stdout",
          "text": [
            "7x^300+-4x^20+5x^0\n",
            "X값 ::2\n",
            "14259251834341402603879119818865647127360278755661553754452983145480669098343356943279587333\n"
          ]
        }
      ]
    },
    {
      "cell_type": "code",
      "source": [
        "# kakao_list = [('다현',200),('정연',250),('쯔위',90),('사나',30), ('지효',15)]\n",
        "\n",
        "# name = input(\"이름::: \")\n",
        "# count = int(input(\"보낸 횟수::: \"))\n",
        "\n",
        "# def add_info(kakao_list, name, count):\n",
        "#   len = len(kakao_list)+1\n",
        "#   for i in range(len):\n",
        "#     if count >= kakao_list[i][1]:\n",
        "#       for x in range(len:x+1):\n",
        "\n"
      ],
      "metadata": {
        "id": "fmOH2KL-Tsjb"
      },
      "execution_count": null,
      "outputs": []
    }
  ]
}