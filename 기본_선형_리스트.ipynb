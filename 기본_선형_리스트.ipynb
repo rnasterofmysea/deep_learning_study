{
  "nbformat": 4,
  "nbformat_minor": 0,
  "metadata": {
    "colab": {
      "provenance": []
    },
    "kernelspec": {
      "name": "python3",
      "display_name": "Python 3"
    },
    "language_info": {
      "name": "python"
    }
  },
  "cells": [
    {
      "cell_type": "code",
      "execution_count": null,
      "metadata": {
        "id": "p9nH8Fls277E"
      },
      "outputs": [],
      "source": [
        "def add_data(data):\n",
        "  linear_list.append(None)\n",
        "  list_len = len(linear_list)\n",
        "  linear_list[list_len] = data\n",
        "\n",
        "def insert_data(pos, data):\n",
        "\n",
        "def delte_data(pos):\n",
        "\n",
        "linear_list = []\n",
        "select = -1\n",
        "\n",
        "while(select != 4):\n",
        "  select = int(input(\"선택하세요(1:추가, 2:삽입, 3: 삭제, 4:종료)-->\"))\n",
        "\n",
        "  if (select == 1):\n",
        "    data = input(\"추가 데이터 -->\")\n",
        "    add_data(data)\n",
        "    print(linear_list)\n",
        "  elif(select == 2):\n",
        "    pos = int(input(\"삽입 위치 -->\"))\n",
        "    data = int(input(\"추가 데이터 -->\"))\n",
        "    insert_data(pos, data)\n",
        "    print(linear_list)\n",
        "  elif(select ==3):\n",
        "    pos = int(input(\"삭제할 위치 -->\"))\n",
        "    delete_data(pos)\n",
        "    print(linear_list)\n",
        "  elif(select == 4):\n",
        "    print(linear_list)\n",
        "\n",
        "  else:\n",
        "    print(\"1~4 중에 하나를 입력하세요\")\n",
        "    continue"
      ]
    }
  ]
}