{
  "nbformat": 4,
  "nbformat_minor": 0,
  "metadata": {
    "colab": {
      "provenance": []
    },
    "kernelspec": {
      "name": "python3",
      "display_name": "Python 3"
    },
    "language_info": {
      "name": "python"
    }
  },
  "cells": [
    {
      "cell_type": "code",
      "execution_count": 4,
      "metadata": {
        "colab": {
          "base_uri": "https://localhost:8080/"
        },
        "id": "f-63U1OsyBVS",
        "outputId": "078863c0-815b-4d1b-f114-f591c7d3adbd"
      },
      "outputs": [
        {
          "output_type": "stream",
          "name": "stdout",
          "text": [
            "이름::: 70\n",
            "보낸 횟수::: 70\n",
            "3\n",
            "[('다현', 200), ('정연', 250), ('쯔위', 90), ('70', 70), ('사나', 30), ('지효', 15)]\n"
          ]
        }
      ],
      "source": [
        "def find_index(kakao_list, name, count):\n",
        "    flag = -1\n",
        "    for i in range(len(kakao_list)):\n",
        "        if count >= kakao_list[i][1]:\n",
        "            flag = i-1\n",
        "    add_info(kakao_list, flag, name, count)\n",
        "\n",
        "def add_info(kakao_list, flag, name, count):\n",
        "    if flag == -1:\n",
        "        kakao_list.append((name, count))\n",
        "    else:\n",
        "        print(flag)\n",
        "        kakao_list.append(None)\n",
        "        for i in range(len(kakao_list) - 1, flag, -1):\n",
        "            kakao_list[i] = kakao_list[i - 1]\n",
        "        kakao_list[flag] = (name, count)\n",
        "\n",
        "kakao_list = [('다현', 200), ('정연', 250), ('쯔위', 90), ('사나', 30), ('지효', 15)]\n",
        "\n",
        "name = input(\"이름::: \")\n",
        "count = int(input(\"보낸 횟수::: \"))\n",
        "find_index(kakao_list, name, count)\n",
        "print(kakao_list)"
      ]
    }
  ]
}